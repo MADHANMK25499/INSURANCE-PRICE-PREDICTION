{
 "cells": [
  {
   "cell_type": "markdown",
   "id": "6c8aceaa",
   "metadata": {},
   "source": [
    "# INSURANCE PRICE PREDICTION"
   ]
  },
  {
   "cell_type": "markdown",
   "id": "c44c078b",
   "metadata": {},
   "source": [
    "## Problem Statement"
   ]
  },
  {
   "cell_type": "markdown",
   "id": "bcc5ee45",
   "metadata": {},
   "source": [
    "Building a data model using machine learning that can predict the premium insurance charge based on age, gender, BMI (Body Mass Index), family condition (number of children), region and smoking habit."
   ]
  },
  {
   "cell_type": "markdown",
   "id": "359f34f0",
   "metadata": {},
   "source": [
    "## Data Definition"
   ]
  },
  {
   "cell_type": "markdown",
   "id": "8aaf338a",
   "metadata": {},
   "source": [
    "Age: The Age of the policyholder\n",
    "    \n",
    "Sex: The Gender of the policyholder\n",
    "    \n",
    "BMI: The Body Mass Index of the Policyholder\n",
    "    \n",
    "Children: Number of Children of the Policyholder\n",
    "    \n",
    "Smoker: A Column whether the Policyholder is Smoker or No Smoker\n",
    "    \n",
    "Region: The Region where the Policyholder belongs to which region\n",
    "    \n",
    "Charges: The Premium Charged to the Policyholder"
   ]
  },
  {
   "cell_type": "markdown",
   "id": "4e63295b",
   "metadata": {},
   "source": [
    "## Importing Libraries"
   ]
  },
  {
   "cell_type": "code",
   "execution_count": 1,
   "id": "0a7428a9",
   "metadata": {},
   "outputs": [],
   "source": [
    "# Importing Libraries\n",
    "import warnings\n",
    "warnings.filterwarnings(\"ignore\")\n",
    "import pandas as pd \n",
    "import numpy as np\n",
    "import matplotlib.pyplot as plt\n",
    "import seaborn as sns\n",
    "import statsmodels\n",
    "import statsmodels.api as sm\n",
    "from sklearn.model_selection import train_test_split\n",
    "from statsmodels.formula.api import ols\n",
    "from statsmodels.tools.eval_measures import rmse\n",
    "from sklearn.metrics import mean_squared_error, mean_absolute_error, r2_score\n",
    "from sklearn.tree import DecisionTreeRegressor\n",
    "from sklearn.metrics import accuracy_score\n",
    "from math import sqrt\n",
    "from sklearn.ensemble import RandomForestRegressor"
   ]
  },
  {
   "cell_type": "markdown",
   "id": "cd982842",
   "metadata": {},
   "source": [
    "## Set options"
   ]
  },
  {
   "cell_type": "code",
   "execution_count": 2,
   "id": "7b6acaf7",
   "metadata": {},
   "outputs": [],
   "source": [
    "# setting the plot size using 'rcParams'\n",
    "plt.rcParams['figure.figsize'] = [15,8]"
   ]
  },
  {
   "cell_type": "code",
   "execution_count": 3,
   "id": "a7946cb9",
   "metadata": {},
   "outputs": [],
   "source": [
    "# displaying all columns of the dataframe\n",
    "pd.options.display.max_columns = None\n",
    "\n",
    "# displaying all rows of the dataframe\n",
    "pd.options.display.max_rows = None\n",
    "\n",
    "# using the below code to convert the 'exponential' values to float\n",
    "np.set_printoptions(suppress=True)"
   ]
  },
  {
   "cell_type": "markdown",
   "id": "0a403789",
   "metadata": {},
   "source": [
    "## Read Data"
   ]
  },
  {
   "cell_type": "code",
   "execution_count": 4,
   "id": "3c805d48",
   "metadata": {},
   "outputs": [
    {
     "data": {
      "text/html": [
       "<div>\n",
       "<style scoped>\n",
       "    .dataframe tbody tr th:only-of-type {\n",
       "        vertical-align: middle;\n",
       "    }\n",
       "\n",
       "    .dataframe tbody tr th {\n",
       "        vertical-align: top;\n",
       "    }\n",
       "\n",
       "    .dataframe thead th {\n",
       "        text-align: right;\n",
       "    }\n",
       "</style>\n",
       "<table border=\"1\" class=\"dataframe\">\n",
       "  <thead>\n",
       "    <tr style=\"text-align: right;\">\n",
       "      <th></th>\n",
       "      <th>age</th>\n",
       "      <th>sex</th>\n",
       "      <th>bmi</th>\n",
       "      <th>children</th>\n",
       "      <th>smoker</th>\n",
       "      <th>region</th>\n",
       "      <th>charges</th>\n",
       "    </tr>\n",
       "  </thead>\n",
       "  <tbody>\n",
       "    <tr>\n",
       "      <th>0</th>\n",
       "      <td>19</td>\n",
       "      <td>female</td>\n",
       "      <td>27.900</td>\n",
       "      <td>0</td>\n",
       "      <td>yes</td>\n",
       "      <td>southwest</td>\n",
       "      <td>16884.92400</td>\n",
       "    </tr>\n",
       "    <tr>\n",
       "      <th>1</th>\n",
       "      <td>18</td>\n",
       "      <td>male</td>\n",
       "      <td>33.770</td>\n",
       "      <td>1</td>\n",
       "      <td>no</td>\n",
       "      <td>southeast</td>\n",
       "      <td>1725.55230</td>\n",
       "    </tr>\n",
       "    <tr>\n",
       "      <th>2</th>\n",
       "      <td>28</td>\n",
       "      <td>male</td>\n",
       "      <td>33.000</td>\n",
       "      <td>3</td>\n",
       "      <td>no</td>\n",
       "      <td>southeast</td>\n",
       "      <td>4449.46200</td>\n",
       "    </tr>\n",
       "    <tr>\n",
       "      <th>3</th>\n",
       "      <td>33</td>\n",
       "      <td>male</td>\n",
       "      <td>22.705</td>\n",
       "      <td>0</td>\n",
       "      <td>no</td>\n",
       "      <td>northwest</td>\n",
       "      <td>21984.47061</td>\n",
       "    </tr>\n",
       "    <tr>\n",
       "      <th>4</th>\n",
       "      <td>32</td>\n",
       "      <td>male</td>\n",
       "      <td>28.880</td>\n",
       "      <td>0</td>\n",
       "      <td>no</td>\n",
       "      <td>northwest</td>\n",
       "      <td>3866.85520</td>\n",
       "    </tr>\n",
       "  </tbody>\n",
       "</table>\n",
       "</div>"
      ],
      "text/plain": [
       "   age     sex     bmi  children smoker     region      charges\n",
       "0   19  female  27.900         0    yes  southwest  16884.92400\n",
       "1   18    male  33.770         1     no  southeast   1725.55230\n",
       "2   28    male  33.000         3     no  southeast   4449.46200\n",
       "3   33    male  22.705         0     no  northwest  21984.47061\n",
       "4   32    male  28.880         0     no  northwest   3866.85520"
      ]
     },
     "execution_count": 4,
     "metadata": {},
     "output_type": "execute_result"
    }
   ],
   "source": [
    "# reading the data file\n",
    "df_insurance=pd.read_csv(r\"D:\\PGA11\\Capstone Project\\insurance.csv\")\n",
    "df_insurance.head()"
   ]
  },
  {
   "cell_type": "markdown",
   "id": "2278770d",
   "metadata": {},
   "source": [
    "## Prepare and analyse the data"
   ]
  },
  {
   "cell_type": "code",
   "execution_count": 5,
   "id": "3e88bd8d",
   "metadata": {},
   "outputs": [
    {
     "data": {
      "text/plain": [
       "(1338, 7)"
      ]
     },
     "execution_count": 5,
     "metadata": {},
     "output_type": "execute_result"
    }
   ],
   "source": [
    "# Dimensions of the data\n",
    "df_insurance.shape"
   ]
  },
  {
   "cell_type": "markdown",
   "id": "0faf7582",
   "metadata": {},
   "source": [
    "There are 1338 rows and 7 columns."
   ]
  },
  {
   "cell_type": "markdown",
   "id": "f160c4bb",
   "metadata": {},
   "source": [
    "### Data type"
   ]
  },
  {
   "cell_type": "code",
   "execution_count": 6,
   "id": "061faf09",
   "metadata": {},
   "outputs": [
    {
     "name": "stdout",
     "output_type": "stream",
     "text": [
      "<class 'pandas.core.frame.DataFrame'>\n",
      "RangeIndex: 1338 entries, 0 to 1337\n",
      "Data columns (total 7 columns):\n",
      " #   Column    Non-Null Count  Dtype  \n",
      "---  ------    --------------  -----  \n",
      " 0   age       1338 non-null   int64  \n",
      " 1   sex       1338 non-null   object \n",
      " 2   bmi       1338 non-null   float64\n",
      " 3   children  1338 non-null   int64  \n",
      " 4   smoker    1338 non-null   object \n",
      " 5   region    1338 non-null   object \n",
      " 6   charges   1338 non-null   float64\n",
      "dtypes: float64(2), int64(2), object(3)\n",
      "memory usage: 73.3+ KB\n"
     ]
    }
   ],
   "source": [
    "df_insurance.info()"
   ]
  },
  {
   "cell_type": "markdown",
   "id": "c244eab3",
   "metadata": {},
   "source": [
    "### Summary statistics"
   ]
  },
  {
   "cell_type": "code",
   "execution_count": 7,
   "id": "df54763b",
   "metadata": {
    "scrolled": true
   },
   "outputs": [
    {
     "data": {
      "text/html": [
       "<div>\n",
       "<style scoped>\n",
       "    .dataframe tbody tr th:only-of-type {\n",
       "        vertical-align: middle;\n",
       "    }\n",
       "\n",
       "    .dataframe tbody tr th {\n",
       "        vertical-align: top;\n",
       "    }\n",
       "\n",
       "    .dataframe thead th {\n",
       "        text-align: right;\n",
       "    }\n",
       "</style>\n",
       "<table border=\"1\" class=\"dataframe\">\n",
       "  <thead>\n",
       "    <tr style=\"text-align: right;\">\n",
       "      <th></th>\n",
       "      <th>age</th>\n",
       "      <th>bmi</th>\n",
       "      <th>children</th>\n",
       "      <th>charges</th>\n",
       "    </tr>\n",
       "  </thead>\n",
       "  <tbody>\n",
       "    <tr>\n",
       "      <th>count</th>\n",
       "      <td>1338.000000</td>\n",
       "      <td>1338.000000</td>\n",
       "      <td>1338.000000</td>\n",
       "      <td>1338.000000</td>\n",
       "    </tr>\n",
       "    <tr>\n",
       "      <th>mean</th>\n",
       "      <td>39.207025</td>\n",
       "      <td>30.663397</td>\n",
       "      <td>1.094918</td>\n",
       "      <td>13270.422265</td>\n",
       "    </tr>\n",
       "    <tr>\n",
       "      <th>std</th>\n",
       "      <td>14.049960</td>\n",
       "      <td>6.098187</td>\n",
       "      <td>1.205493</td>\n",
       "      <td>12110.011237</td>\n",
       "    </tr>\n",
       "    <tr>\n",
       "      <th>min</th>\n",
       "      <td>18.000000</td>\n",
       "      <td>15.960000</td>\n",
       "      <td>0.000000</td>\n",
       "      <td>1121.873900</td>\n",
       "    </tr>\n",
       "    <tr>\n",
       "      <th>25%</th>\n",
       "      <td>27.000000</td>\n",
       "      <td>26.296250</td>\n",
       "      <td>0.000000</td>\n",
       "      <td>4740.287150</td>\n",
       "    </tr>\n",
       "    <tr>\n",
       "      <th>50%</th>\n",
       "      <td>39.000000</td>\n",
       "      <td>30.400000</td>\n",
       "      <td>1.000000</td>\n",
       "      <td>9382.033000</td>\n",
       "    </tr>\n",
       "    <tr>\n",
       "      <th>75%</th>\n",
       "      <td>51.000000</td>\n",
       "      <td>34.693750</td>\n",
       "      <td>2.000000</td>\n",
       "      <td>16639.912515</td>\n",
       "    </tr>\n",
       "    <tr>\n",
       "      <th>max</th>\n",
       "      <td>64.000000</td>\n",
       "      <td>53.130000</td>\n",
       "      <td>5.000000</td>\n",
       "      <td>63770.428010</td>\n",
       "    </tr>\n",
       "  </tbody>\n",
       "</table>\n",
       "</div>"
      ],
      "text/plain": [
       "               age          bmi     children       charges\n",
       "count  1338.000000  1338.000000  1338.000000   1338.000000\n",
       "mean     39.207025    30.663397     1.094918  13270.422265\n",
       "std      14.049960     6.098187     1.205493  12110.011237\n",
       "min      18.000000    15.960000     0.000000   1121.873900\n",
       "25%      27.000000    26.296250     0.000000   4740.287150\n",
       "50%      39.000000    30.400000     1.000000   9382.033000\n",
       "75%      51.000000    34.693750     2.000000  16639.912515\n",
       "max      64.000000    53.130000     5.000000  63770.428010"
      ]
     },
     "execution_count": 7,
     "metadata": {},
     "output_type": "execute_result"
    }
   ],
   "source": [
    "# By default the describe function returns the summary of numerical variables\n",
    "df_insurance.describe()"
   ]
  },
  {
   "cell_type": "code",
   "execution_count": 8,
   "id": "15918ac8",
   "metadata": {},
   "outputs": [
    {
     "data": {
      "text/html": [
       "<div>\n",
       "<style scoped>\n",
       "    .dataframe tbody tr th:only-of-type {\n",
       "        vertical-align: middle;\n",
       "    }\n",
       "\n",
       "    .dataframe tbody tr th {\n",
       "        vertical-align: top;\n",
       "    }\n",
       "\n",
       "    .dataframe thead th {\n",
       "        text-align: right;\n",
       "    }\n",
       "</style>\n",
       "<table border=\"1\" class=\"dataframe\">\n",
       "  <thead>\n",
       "    <tr style=\"text-align: right;\">\n",
       "      <th></th>\n",
       "      <th>sex</th>\n",
       "      <th>smoker</th>\n",
       "      <th>region</th>\n",
       "    </tr>\n",
       "  </thead>\n",
       "  <tbody>\n",
       "    <tr>\n",
       "      <th>count</th>\n",
       "      <td>1338</td>\n",
       "      <td>1338</td>\n",
       "      <td>1338</td>\n",
       "    </tr>\n",
       "    <tr>\n",
       "      <th>unique</th>\n",
       "      <td>2</td>\n",
       "      <td>2</td>\n",
       "      <td>4</td>\n",
       "    </tr>\n",
       "    <tr>\n",
       "      <th>top</th>\n",
       "      <td>male</td>\n",
       "      <td>no</td>\n",
       "      <td>southeast</td>\n",
       "    </tr>\n",
       "    <tr>\n",
       "      <th>freq</th>\n",
       "      <td>676</td>\n",
       "      <td>1064</td>\n",
       "      <td>364</td>\n",
       "    </tr>\n",
       "  </tbody>\n",
       "</table>\n",
       "</div>"
      ],
      "text/plain": [
       "         sex smoker     region\n",
       "count   1338   1338       1338\n",
       "unique     2      2          4\n",
       "top     male     no  southeast\n",
       "freq     676   1064        364"
      ]
     },
     "execution_count": 8,
     "metadata": {},
     "output_type": "execute_result"
    }
   ],
   "source": [
    "df_insurance.describe(include='object')"
   ]
  },
  {
   "cell_type": "markdown",
   "id": "9242c629",
   "metadata": {},
   "source": [
    "### Detecting the outliers"
   ]
  },
  {
   "cell_type": "code",
   "execution_count": 9,
   "id": "ea47643b",
   "metadata": {},
   "outputs": [
    {
     "data": {
      "image/png": "[encoded data removed]",
      "text/plain": [
       "<Figure size 1500x800 with 1 Axes>"
      ]
     },
     "metadata": {},
     "output_type": "display_data"
    }
   ],
   "source": [
    "# plotting boxplot for \"bmi\"\n",
    "sns.boxplot(df_insurance['bmi'])\n",
    "\n",
    "plt.xticks(rotation = 'vertical', fontsize = 15)\n",
    "\n",
    "plt.show()"
   ]
  },
  {
   "cell_type": "markdown",
   "id": "989b3099",
   "metadata": {},
   "source": [
    "We can find some outliers present in the data. Generally, outliers badly affect the prediction of the regression model and thus, we will remove these outliers."
   ]
  },
  {
   "cell_type": "code",
   "execution_count": 10,
   "id": "be024a96",
   "metadata": {},
   "outputs": [
    {
     "data": {
      "text/plain": [
       "(1318, 7)"
      ]
     },
     "execution_count": 10,
     "metadata": {},
     "output_type": "execute_result"
    }
   ],
   "source": [
    "df_insurance = df_insurance[df_insurance['bmi'] < 45]\n",
    "df_insurance.shape"
   ]
  },
  {
   "cell_type": "code",
   "execution_count": 11,
   "id": "6437dc82",
   "metadata": {},
   "outputs": [
    {
     "data": {
      "text/plain": [
       "<AxesSubplot:xlabel='bmi'>"
      ]
     },
     "execution_count": 11,
     "metadata": {},
     "output_type": "execute_result"
    },
    {
     "data": {
      "image/png": "[encoded data removed]",
      "text/plain": [
       "<Figure size 1500x800 with 1 Axes>"
      ]
     },
     "metadata": {},
     "output_type": "display_data"
    }
   ],
   "source": [
    "sns.boxplot(df_insurance['bmi'])"
   ]
  },
  {
   "cell_type": "code",
   "execution_count": 12,
   "id": "3e2d60e1",
   "metadata": {},
   "outputs": [
    {
     "data": {
      "text/plain": [
       "<AxesSubplot:xlabel='charges'>"
      ]
     },
     "execution_count": 12,
     "metadata": {},
     "output_type": "execute_result"
    },
    {
     "data": {
      "image/png": "[encoded data removed]",
      "text/plain": [
       "<Figure size 1500x800 with 1 Axes>"
      ]
     },
     "metadata": {},
     "output_type": "display_data"
    }
   ],
   "source": [
    "sns.boxplot(df_insurance['charges'])"
   ]
  },
  {
   "cell_type": "code",
   "execution_count": 13,
   "id": "3576d2d1",
   "metadata": {},
   "outputs": [
    {
     "data": {
      "text/plain": [
       "(1084, 7)"
      ]
     },
     "execution_count": 13,
     "metadata": {},
     "output_type": "execute_result"
    }
   ],
   "source": [
    "df_insurance = df_insurance[df_insurance['charges'] < 22000]\n",
    "df_insurance.shape"
   ]
  },
  {
   "cell_type": "code",
   "execution_count": 14,
   "id": "7b5856af",
   "metadata": {},
   "outputs": [
    {
     "data": {
      "text/plain": [
       "<AxesSubplot:xlabel='charges'>"
      ]
     },
     "execution_count": 14,
     "metadata": {},
     "output_type": "execute_result"
    },
    {
     "data": {
      "image/png": "[encoded data removed]",
      "text/plain": [
       "<Figure size 1500x800 with 1 Axes>"
      ]
     },
     "metadata": {},
     "output_type": "display_data"
    }
   ],
   "source": [
    "sns.boxplot(df_insurance['charges'])"
   ]
  },
  {
   "cell_type": "markdown",
   "id": "bccc5894",
   "metadata": {},
   "source": [
    "Hence the outliers from the dataset are removed."
   ]
  },
  {
   "cell_type": "markdown",
   "id": "a1cfc4c0",
   "metadata": {},
   "source": [
    "### Missing values"
   ]
  },
  {
   "cell_type": "code",
   "execution_count": 15,
   "id": "1f523f78",
   "metadata": {},
   "outputs": [
    {
     "data": {
      "text/plain": [
       "age         0\n",
       "sex         0\n",
       "bmi         0\n",
       "children    0\n",
       "smoker      0\n",
       "region      0\n",
       "charges     0\n",
       "dtype: int64"
      ]
     },
     "execution_count": 15,
     "metadata": {},
     "output_type": "execute_result"
    }
   ],
   "source": [
    "df_insurance.isnull().sum()"
   ]
  },
  {
   "cell_type": "markdown",
   "id": "37fa7acc",
   "metadata": {},
   "source": [
    "### Correlation"
   ]
  },
  {
   "cell_type": "code",
   "execution_count": 16,
   "id": "893bf609",
   "metadata": {},
   "outputs": [
    {
     "data": {
      "text/html": [
       "<div>\n",
       "<style scoped>\n",
       "    .dataframe tbody tr th:only-of-type {\n",
       "        vertical-align: middle;\n",
       "    }\n",
       "\n",
       "    .dataframe tbody tr th {\n",
       "        vertical-align: top;\n",
       "    }\n",
       "\n",
       "    .dataframe thead th {\n",
       "        text-align: right;\n",
       "    }\n",
       "</style>\n",
       "<table border=\"1\" class=\"dataframe\">\n",
       "  <thead>\n",
       "    <tr style=\"text-align: right;\">\n",
       "      <th></th>\n",
       "      <th>age</th>\n",
       "      <th>bmi</th>\n",
       "      <th>children</th>\n",
       "      <th>charges</th>\n",
       "    </tr>\n",
       "  </thead>\n",
       "  <tbody>\n",
       "    <tr>\n",
       "      <th>age</th>\n",
       "      <td>1.000000</td>\n",
       "      <td>0.154329</td>\n",
       "      <td>0.036551</td>\n",
       "      <td>0.545094</td>\n",
       "    </tr>\n",
       "    <tr>\n",
       "      <th>bmi</th>\n",
       "      <td>0.154329</td>\n",
       "      <td>1.000000</td>\n",
       "      <td>-0.011965</td>\n",
       "      <td>-0.034723</td>\n",
       "    </tr>\n",
       "    <tr>\n",
       "      <th>children</th>\n",
       "      <td>0.036551</td>\n",
       "      <td>-0.011965</td>\n",
       "      <td>1.000000</td>\n",
       "      <td>0.122115</td>\n",
       "    </tr>\n",
       "    <tr>\n",
       "      <th>charges</th>\n",
       "      <td>0.545094</td>\n",
       "      <td>-0.034723</td>\n",
       "      <td>0.122115</td>\n",
       "      <td>1.000000</td>\n",
       "    </tr>\n",
       "  </tbody>\n",
       "</table>\n",
       "</div>"
      ],
      "text/plain": [
       "               age       bmi  children   charges\n",
       "age       1.000000  0.154329  0.036551  0.545094\n",
       "bmi       0.154329  1.000000 -0.011965 -0.034723\n",
       "children  0.036551 -0.011965  1.000000  0.122115\n",
       "charges   0.545094 -0.034723  0.122115  1.000000"
      ]
     },
     "execution_count": 16,
     "metadata": {},
     "output_type": "execute_result"
    }
   ],
   "source": [
    "# using the corr() function to generate the correlation matrix of numeric variables\n",
    "corrmat=df_insurance.corr()\n",
    "corrmat"
   ]
  },
  {
   "cell_type": "code",
   "execution_count": 17,
   "id": "13b2dad0",
   "metadata": {},
   "outputs": [
    {
     "data": {
      "image/png": "[encoded data removed]",
      "text/plain": [
       "<Figure size 3000x2000 with 2 Axes>"
      ]
     },
     "metadata": {},
     "output_type": "display_data"
    }
   ],
   "source": [
    "# plotting corrmat using heatmap\n",
    "plt.figure(figsize = (30,20))\n",
    "\n",
    "sns.heatmap(corrmat, annot = True, vmax = 1.0, vmin = -1.0, cmap = 'bwr', annot_kws = {\"size\": 11.5})\n",
    "\n",
    "plt.xticks(fontsize = 15)\n",
    "plt.yticks(fontsize = 15)\n",
    "\n",
    "plt.show()"
   ]
  },
  {
   "cell_type": "markdown",
   "id": "89a9e345",
   "metadata": {},
   "source": [
    "### Data visualization"
   ]
  },
  {
   "cell_type": "code",
   "execution_count": 18,
   "id": "1c3f876a",
   "metadata": {},
   "outputs": [
    {
     "data": {
      "text/plain": [
       "<AxesSubplot:xlabel='charges', ylabel='Count'>"
      ]
     },
     "execution_count": 18,
     "metadata": {},
     "output_type": "execute_result"
    },
    {
     "data": {
      "image/png": "[encoded data removed]",
      "text/plain": [
       "<Figure size 1500x700 with 1 Axes>"
      ]
     },
     "metadata": {},
     "output_type": "display_data"
    }
   ],
   "source": [
    "plt.figure(figsize=(15,7))\n",
    "sns.histplot(data=df_insurance, x='charges', hue='smoker')"
   ]
  },
  {
   "cell_type": "markdown",
   "id": "0d84a3d2",
   "metadata": {},
   "source": [
    "Charges column seems to have a positive skew. Most people have charges under 17k. Smokers seem to have higher charges."
   ]
  },
  {
   "cell_type": "code",
   "execution_count": 19,
   "id": "c8c25126",
   "metadata": {},
   "outputs": [
    {
     "data": {
      "text/plain": [
       "<AxesSubplot:xlabel='smoker', ylabel='count'>"
      ]
     },
     "execution_count": 19,
     "metadata": {},
     "output_type": "execute_result"
    },
    {
     "data": {
      "image/png": "[encoded data removed]",
      "text/plain": [
       "<Figure size 1200x700 with 1 Axes>"
      ]
     },
     "metadata": {},
     "output_type": "display_data"
    }
   ],
   "source": [
    "# Visualizing smoker column\n",
    "plt.figure(figsize=(12,7))\n",
    "sns.countplot(x=df_insurance.smoker)"
   ]
  },
  {
   "cell_type": "code",
   "execution_count": 20,
   "id": "ea7f82ee",
   "metadata": {},
   "outputs": [
    {
     "data": {
      "text/plain": [
       "<AxesSubplot:xlabel='smoker', ylabel='count'>"
      ]
     },
     "execution_count": 20,
     "metadata": {},
     "output_type": "execute_result"
    },
    {
     "data": {
      "image/png": "[encoded data removed]",
      "text/plain": [
       "<Figure size 1200x700 with 1 Axes>"
      ]
     },
     "metadata": {},
     "output_type": "display_data"
    }
   ],
   "source": [
    "# Visualizing by smoker by sex\n",
    "plt.figure(figsize=(12,7))\n",
    "sns.countplot(x=df_insurance.smoker, hue=df_insurance.sex)"
   ]
  },
  {
   "cell_type": "markdown",
   "id": "68ebd4b7",
   "metadata": {},
   "source": [
    "### Checking normality"
   ]
  },
  {
   "cell_type": "code",
   "execution_count": 21,
   "id": "7c61baa9",
   "metadata": {},
   "outputs": [
    {
     "data": {
      "text/plain": [
       "<AxesSubplot:xlabel='charges', ylabel='Density'>"
      ]
     },
     "execution_count": 21,
     "metadata": {},
     "output_type": "execute_result"
    },
    {
     "data": {
      "image/png": "[encoded data removed]",
      "text/plain": [
       "<Figure size 1500x800 with 1 Axes>"
      ]
     },
     "metadata": {},
     "output_type": "display_data"
    }
   ],
   "source": [
    "sns.distplot(df_insurance['charges'])"
   ]
  },
  {
   "cell_type": "markdown",
   "id": "48962260",
   "metadata": {},
   "source": [
    "We can see that the variable 'charges' is positively skewed and thus we can say that it is not normally distributed."
   ]
  },
  {
   "cell_type": "code",
   "execution_count": 22,
   "id": "0b965f08",
   "metadata": {},
   "outputs": [],
   "source": [
    "df_insurance['log_charges'] = np.log(df_insurance.charges)"
   ]
  },
  {
   "cell_type": "code",
   "execution_count": 23,
   "id": "e393b261",
   "metadata": {},
   "outputs": [
    {
     "data": {
      "text/html": [
       "<div>\n",
       "<style scoped>\n",
       "    .dataframe tbody tr th:only-of-type {\n",
       "        vertical-align: middle;\n",
       "    }\n",
       "\n",
       "    .dataframe tbody tr th {\n",
       "        vertical-align: top;\n",
       "    }\n",
       "\n",
       "    .dataframe thead th {\n",
       "        text-align: right;\n",
       "    }\n",
       "</style>\n",
       "<table border=\"1\" class=\"dataframe\">\n",
       "  <thead>\n",
       "    <tr style=\"text-align: right;\">\n",
       "      <th></th>\n",
       "      <th>age</th>\n",
       "      <th>sex</th>\n",
       "      <th>bmi</th>\n",
       "      <th>children</th>\n",
       "      <th>smoker</th>\n",
       "      <th>region</th>\n",
       "      <th>charges</th>\n",
       "      <th>log_charges</th>\n",
       "    </tr>\n",
       "  </thead>\n",
       "  <tbody>\n",
       "    <tr>\n",
       "      <th>0</th>\n",
       "      <td>19</td>\n",
       "      <td>female</td>\n",
       "      <td>27.900</td>\n",
       "      <td>0</td>\n",
       "      <td>yes</td>\n",
       "      <td>southwest</td>\n",
       "      <td>16884.92400</td>\n",
       "      <td>9.734176</td>\n",
       "    </tr>\n",
       "    <tr>\n",
       "      <th>1</th>\n",
       "      <td>18</td>\n",
       "      <td>male</td>\n",
       "      <td>33.770</td>\n",
       "      <td>1</td>\n",
       "      <td>no</td>\n",
       "      <td>southeast</td>\n",
       "      <td>1725.55230</td>\n",
       "      <td>7.453302</td>\n",
       "    </tr>\n",
       "    <tr>\n",
       "      <th>2</th>\n",
       "      <td>28</td>\n",
       "      <td>male</td>\n",
       "      <td>33.000</td>\n",
       "      <td>3</td>\n",
       "      <td>no</td>\n",
       "      <td>southeast</td>\n",
       "      <td>4449.46200</td>\n",
       "      <td>8.400538</td>\n",
       "    </tr>\n",
       "    <tr>\n",
       "      <th>3</th>\n",
       "      <td>33</td>\n",
       "      <td>male</td>\n",
       "      <td>22.705</td>\n",
       "      <td>0</td>\n",
       "      <td>no</td>\n",
       "      <td>northwest</td>\n",
       "      <td>21984.47061</td>\n",
       "      <td>9.998092</td>\n",
       "    </tr>\n",
       "    <tr>\n",
       "      <th>4</th>\n",
       "      <td>32</td>\n",
       "      <td>male</td>\n",
       "      <td>28.880</td>\n",
       "      <td>0</td>\n",
       "      <td>no</td>\n",
       "      <td>northwest</td>\n",
       "      <td>3866.85520</td>\n",
       "      <td>8.260197</td>\n",
       "    </tr>\n",
       "  </tbody>\n",
       "</table>\n",
       "</div>"
      ],
      "text/plain": [
       "   age     sex     bmi  children smoker     region      charges  log_charges\n",
       "0   19  female  27.900         0    yes  southwest  16884.92400     9.734176\n",
       "1   18    male  33.770         1     no  southeast   1725.55230     7.453302\n",
       "2   28    male  33.000         3     no  southeast   4449.46200     8.400538\n",
       "3   33    male  22.705         0     no  northwest  21984.47061     9.998092\n",
       "4   32    male  28.880         0     no  northwest   3866.85520     8.260197"
      ]
     },
     "execution_count": 23,
     "metadata": {},
     "output_type": "execute_result"
    }
   ],
   "source": [
    "df_insurance.head()"
   ]
  },
  {
   "cell_type": "markdown",
   "id": "0eaa77c1",
   "metadata": {},
   "source": [
    "### Distribtuion of variables"
   ]
  },
  {
   "cell_type": "code",
   "execution_count": 24,
   "id": "05c9e0cd",
   "metadata": {},
   "outputs": [
    {
     "data": {
      "text/plain": [
       "Index(['age', 'bmi', 'children', 'charges', 'log_charges'], dtype='object')"
      ]
     },
     "execution_count": 24,
     "metadata": {},
     "output_type": "execute_result"
    }
   ],
   "source": [
    "# considering only the numeric variables using include=np.number\n",
    "df_numeric_features = df_insurance.select_dtypes(include=np.number)\n",
    "\n",
    "df_numeric_features.columns"
   ]
  },
  {
   "cell_type": "code",
   "execution_count": 25,
   "id": "d5e01b0f",
   "metadata": {},
   "outputs": [
    {
     "data": {
      "text/plain": [
       "Index(['sex', 'smoker', 'region'], dtype='object')"
      ]
     },
     "execution_count": 25,
     "metadata": {},
     "output_type": "execute_result"
    }
   ],
   "source": [
    "# considering only the categorical variables using (include=object)\n",
    "df_categoric_features = df_insurance.select_dtypes(include = object)\n",
    "\n",
    "df_categoric_features.columns"
   ]
  },
  {
   "cell_type": "markdown",
   "id": "f3faf0e0",
   "metadata": {},
   "source": [
    "### Dummy encoding categorical variables"
   ]
  },
  {
   "cell_type": "code",
   "execution_count": 26,
   "id": "3395d8d5",
   "metadata": {},
   "outputs": [
    {
     "data": {
      "text/html": [
       "<div>\n",
       "<style scoped>\n",
       "    .dataframe tbody tr th:only-of-type {\n",
       "        vertical-align: middle;\n",
       "    }\n",
       "\n",
       "    .dataframe tbody tr th {\n",
       "        vertical-align: top;\n",
       "    }\n",
       "\n",
       "    .dataframe thead th {\n",
       "        text-align: right;\n",
       "    }\n",
       "</style>\n",
       "<table border=\"1\" class=\"dataframe\">\n",
       "  <thead>\n",
       "    <tr style=\"text-align: right;\">\n",
       "      <th></th>\n",
       "      <th>sex_male</th>\n",
       "      <th>smoker_yes</th>\n",
       "      <th>region_northwest</th>\n",
       "      <th>region_southeast</th>\n",
       "      <th>region_southwest</th>\n",
       "    </tr>\n",
       "  </thead>\n",
       "  <tbody>\n",
       "    <tr>\n",
       "      <th>0</th>\n",
       "      <td>0</td>\n",
       "      <td>1</td>\n",
       "      <td>0</td>\n",
       "      <td>0</td>\n",
       "      <td>1</td>\n",
       "    </tr>\n",
       "    <tr>\n",
       "      <th>1</th>\n",
       "      <td>1</td>\n",
       "      <td>0</td>\n",
       "      <td>0</td>\n",
       "      <td>1</td>\n",
       "      <td>0</td>\n",
       "    </tr>\n",
       "    <tr>\n",
       "      <th>2</th>\n",
       "      <td>1</td>\n",
       "      <td>0</td>\n",
       "      <td>0</td>\n",
       "      <td>1</td>\n",
       "      <td>0</td>\n",
       "    </tr>\n",
       "    <tr>\n",
       "      <th>3</th>\n",
       "      <td>1</td>\n",
       "      <td>0</td>\n",
       "      <td>1</td>\n",
       "      <td>0</td>\n",
       "      <td>0</td>\n",
       "    </tr>\n",
       "    <tr>\n",
       "      <th>4</th>\n",
       "      <td>1</td>\n",
       "      <td>0</td>\n",
       "      <td>1</td>\n",
       "      <td>0</td>\n",
       "      <td>0</td>\n",
       "    </tr>\n",
       "  </tbody>\n",
       "</table>\n",
       "</div>"
      ],
      "text/plain": [
       "   sex_male  smoker_yes  region_northwest  region_southeast  region_southwest\n",
       "0         0           1                 0                 0                 1\n",
       "1         1           0                 0                 1                 0\n",
       "2         1           0                 0                 1                 0\n",
       "3         1           0                 1                 0                 0\n",
       "4         1           0                 1                 0                 0"
      ]
     },
     "execution_count": 26,
     "metadata": {},
     "output_type": "execute_result"
    }
   ],
   "source": [
    "dummy_encoding = pd.get_dummies(df_categoric_features, drop_first = True)\n",
    "dummy_encoding.head()"
   ]
  },
  {
   "cell_type": "code",
   "execution_count": 27,
   "id": "1772a34d",
   "metadata": {},
   "outputs": [
    {
     "data": {
      "text/html": [
       "<div>\n",
       "<style scoped>\n",
       "    .dataframe tbody tr th:only-of-type {\n",
       "        vertical-align: middle;\n",
       "    }\n",
       "\n",
       "    .dataframe tbody tr th {\n",
       "        vertical-align: top;\n",
       "    }\n",
       "\n",
       "    .dataframe thead th {\n",
       "        text-align: right;\n",
       "    }\n",
       "</style>\n",
       "<table border=\"1\" class=\"dataframe\">\n",
       "  <thead>\n",
       "    <tr style=\"text-align: right;\">\n",
       "      <th></th>\n",
       "      <th>age</th>\n",
       "      <th>bmi</th>\n",
       "      <th>children</th>\n",
       "      <th>charges</th>\n",
       "      <th>log_charges</th>\n",
       "      <th>sex_male</th>\n",
       "      <th>smoker_yes</th>\n",
       "      <th>region_northwest</th>\n",
       "      <th>region_southeast</th>\n",
       "      <th>region_southwest</th>\n",
       "    </tr>\n",
       "  </thead>\n",
       "  <tbody>\n",
       "    <tr>\n",
       "      <th>0</th>\n",
       "      <td>19</td>\n",
       "      <td>27.900</td>\n",
       "      <td>0</td>\n",
       "      <td>16884.92400</td>\n",
       "      <td>9.734176</td>\n",
       "      <td>0</td>\n",
       "      <td>1</td>\n",
       "      <td>0</td>\n",
       "      <td>0</td>\n",
       "      <td>1</td>\n",
       "    </tr>\n",
       "    <tr>\n",
       "      <th>1</th>\n",
       "      <td>18</td>\n",
       "      <td>33.770</td>\n",
       "      <td>1</td>\n",
       "      <td>1725.55230</td>\n",
       "      <td>7.453302</td>\n",
       "      <td>1</td>\n",
       "      <td>0</td>\n",
       "      <td>0</td>\n",
       "      <td>1</td>\n",
       "      <td>0</td>\n",
       "    </tr>\n",
       "    <tr>\n",
       "      <th>2</th>\n",
       "      <td>28</td>\n",
       "      <td>33.000</td>\n",
       "      <td>3</td>\n",
       "      <td>4449.46200</td>\n",
       "      <td>8.400538</td>\n",
       "      <td>1</td>\n",
       "      <td>0</td>\n",
       "      <td>0</td>\n",
       "      <td>1</td>\n",
       "      <td>0</td>\n",
       "    </tr>\n",
       "    <tr>\n",
       "      <th>3</th>\n",
       "      <td>33</td>\n",
       "      <td>22.705</td>\n",
       "      <td>0</td>\n",
       "      <td>21984.47061</td>\n",
       "      <td>9.998092</td>\n",
       "      <td>1</td>\n",
       "      <td>0</td>\n",
       "      <td>1</td>\n",
       "      <td>0</td>\n",
       "      <td>0</td>\n",
       "    </tr>\n",
       "    <tr>\n",
       "      <th>4</th>\n",
       "      <td>32</td>\n",
       "      <td>28.880</td>\n",
       "      <td>0</td>\n",
       "      <td>3866.85520</td>\n",
       "      <td>8.260197</td>\n",
       "      <td>1</td>\n",
       "      <td>0</td>\n",
       "      <td>1</td>\n",
       "      <td>0</td>\n",
       "      <td>0</td>\n",
       "    </tr>\n",
       "  </tbody>\n",
       "</table>\n",
       "</div>"
      ],
      "text/plain": [
       "   age     bmi  children      charges  log_charges  sex_male  smoker_yes  \\\n",
       "0   19  27.900         0  16884.92400     9.734176         0           1   \n",
       "1   18  33.770         1   1725.55230     7.453302         1           0   \n",
       "2   28  33.000         3   4449.46200     8.400538         1           0   \n",
       "3   33  22.705         0  21984.47061     9.998092         1           0   \n",
       "4   32  28.880         0   3866.85520     8.260197         1           0   \n",
       "\n",
       "   region_northwest  region_southeast  region_southwest  \n",
       "0                 0                 0                 1  \n",
       "1                 0                 1                 0  \n",
       "2                 0                 1                 0  \n",
       "3                 1                 0                 0  \n",
       "4                 1                 0                 0  "
      ]
     },
     "execution_count": 27,
     "metadata": {},
     "output_type": "execute_result"
    }
   ],
   "source": [
    "# concatenating the numerical and dummy encoded categorical variables column-wise\n",
    "df_insurance_dummy = pd.concat([df_numeric_features, dummy_encoding], axis=1)\n",
    "\n",
    "df_insurance_dummy.head()"
   ]
  },
  {
   "cell_type": "code",
   "execution_count": 28,
   "id": "b17146c2",
   "metadata": {},
   "outputs": [
    {
     "data": {
      "text/plain": [
       "(1084, 10)"
      ]
     },
     "execution_count": 28,
     "metadata": {},
     "output_type": "execute_result"
    }
   ],
   "source": [
    "df_insurance_dummy.shape"
   ]
  },
  {
   "cell_type": "markdown",
   "id": "580f8004",
   "metadata": {},
   "source": [
    "## Model Building"
   ]
  },
  {
   "cell_type": "code",
   "execution_count": 29,
   "id": "d5b02572",
   "metadata": {},
   "outputs": [],
   "source": [
    "df_insurance_dummy = sm.add_constant(df_insurance_dummy)\n",
    "\n",
    "# separating the independent and dependent variables\n",
    "X = df_insurance_dummy.drop(['charges','log_charges'], axis = 1)\n",
    "y = df_insurance_dummy[['charges','log_charges']]"
   ]
  },
  {
   "cell_type": "code",
   "execution_count": 30,
   "id": "2b7ad30b",
   "metadata": {},
   "outputs": [
    {
     "name": "stdout",
     "output_type": "stream",
     "text": [
      "X_train (758, 9)\n",
      "y_train (758, 2)\n",
      "X_test (326, 9)\n",
      "y_test (326, 2)\n"
     ]
    }
   ],
   "source": [
    "X_train, X_test, y_train, y_test = train_test_split(X, y, test_size = 0.3, random_state = 10)\n",
    "print(\"X_train\",X_train.shape)\n",
    "print(\"y_train\",y_train.shape)\n",
    "print(\"X_test\",X_test.shape)\n",
    "print(\"y_test\",y_test.shape)"
   ]
  },
  {
   "cell_type": "markdown",
   "id": "c4528a4b",
   "metadata": {},
   "source": [
    "## Linear Regression Model with Log Transformed Dependent Variable"
   ]
  },
  {
   "cell_type": "code",
   "execution_count": 236,
   "id": "d3297888",
   "metadata": {},
   "outputs": [
    {
     "name": "stdout",
     "output_type": "stream",
     "text": [
      "                            OLS Regression Results                            \n",
      "==============================================================================\n",
      "Dep. Variable:            log_charges   R-squared:                       0.790\n",
      "Model:                            OLS   Adj. R-squared:                  0.787\n",
      "Method:                 Least Squares   F-statistic:                     351.4\n",
      "Date:                Sun, 21 May 2023   Prob (F-statistic):          1.25e-247\n",
      "Time:                        18:43:05   Log-Likelihood:                -238.98\n",
      "No. Observations:                 758   AIC:                             496.0\n",
      "Df Residuals:                     749   BIC:                             537.6\n",
      "Df Model:                           8                                         \n",
      "Covariance Type:            nonrobust                                         \n",
      "====================================================================================\n",
      "                       coef    std err          t      P>|t|      [0.025      0.975]\n",
      "------------------------------------------------------------------------------------\n",
      "const                7.0039      0.076     91.912      0.000       6.854       7.153\n",
      "age                  0.0394      0.001     45.112      0.000       0.038       0.041\n",
      "bmi                  0.0067      0.002      2.996      0.003       0.002       0.011\n",
      "children             0.1131      0.010     10.834      0.000       0.093       0.134\n",
      "sex_male            -0.0935      0.024     -3.848      0.000      -0.141      -0.046\n",
      "smoker_yes           1.4796      0.049     30.097      0.000       1.383       1.576\n",
      "region_northwest    -0.0805      0.034     -2.336      0.020      -0.148      -0.013\n",
      "region_southeast    -0.1742      0.036     -4.905      0.000      -0.244      -0.104\n",
      "region_southwest    -0.1443      0.034     -4.244      0.000      -0.211      -0.078\n",
      "==============================================================================\n",
      "Omnibus:                      543.366   Durbin-Watson:                   2.044\n",
      "Prob(Omnibus):                  0.000   Jarque-Bera (JB):             7296.903\n",
      "Skew:                           3.171   Prob(JB):                         0.00\n",
      "Kurtosis:                      16.814   Cond. No.                         330.\n",
      "==============================================================================\n",
      "\n",
      "Notes:\n",
      "[1] Standard Errors assume that the covariance matrix of the errors is correctly specified.\n"
     ]
    }
   ],
   "source": [
    "# Building a model using OLS()\n",
    "linear_log_model = sm.OLS(y_train['log_charges'], X_train).fit()\n",
    "\n",
    "print(linear_log_model.summary())"
   ]
  },
  {
   "cell_type": "markdown",
   "id": "9aa58c12",
   "metadata": {},
   "source": [
    "From the above summary, we can see that the value of Durbin-Watson is 2.04. Generally, the Durbin-Watson statistic will always have a value between 0 and 4. A value of 2.0 means that there is no autocorrelation."
   ]
  },
  {
   "cell_type": "code",
   "execution_count": 237,
   "id": "d29dbb67",
   "metadata": {},
   "outputs": [],
   "source": [
    "linear_log_model_predictions = linear_log_model.predict(X_test)"
   ]
  },
  {
   "cell_type": "markdown",
   "id": "ffb9f650",
   "metadata": {},
   "source": [
    "The predicted values are log transformed. In order to get Charges values, we take the antilog of these predicted values by using the function np.exp()"
   ]
  },
  {
   "cell_type": "code",
   "execution_count": 238,
   "id": "c92e02d5",
   "metadata": {},
   "outputs": [],
   "source": [
    "predicted_charges = np.exp(linear_log_model_predictions)\n",
    "\n",
    "# Extracting the 'Charges' values from the test data\n",
    "actual_charges= y_test['charges']"
   ]
  },
  {
   "cell_type": "markdown",
   "id": "3e4a2c73",
   "metadata": {},
   "source": [
    "Computing accuracy measures like Root-mean-square-error(RMSE), R-squared and Adjusted R-squared."
   ]
  },
  {
   "cell_type": "code",
   "execution_count": 239,
   "id": "da52d6b7",
   "metadata": {},
   "outputs": [],
   "source": [
    "linear_log_model_rmse = rmse(actual_charges, predicted_charges)\n",
    "\n",
    "linear_log_model_rsquared = linear_log_model.rsquared\n",
    "\n",
    "linear_log_model_rsquared_adj = linear_log_model.rsquared_adj "
   ]
  },
  {
   "cell_type": "code",
   "execution_count": 240,
   "id": "f293feba",
   "metadata": {},
   "outputs": [
    {
     "data": {
      "text/html": [
       "<div>\n",
       "<style scoped>\n",
       "    .dataframe tbody tr th:only-of-type {\n",
       "        vertical-align: middle;\n",
       "    }\n",
       "\n",
       "    .dataframe tbody tr th {\n",
       "        vertical-align: top;\n",
       "    }\n",
       "\n",
       "    .dataframe thead th {\n",
       "        text-align: right;\n",
       "    }\n",
       "</style>\n",
       "<table border=\"1\" class=\"dataframe\">\n",
       "  <thead>\n",
       "    <tr style=\"text-align: right;\">\n",
       "      <th></th>\n",
       "      <th>Model</th>\n",
       "      <th>RMSE</th>\n",
       "      <th>R-Squared</th>\n",
       "      <th>Adj. R-Squared</th>\n",
       "    </tr>\n",
       "  </thead>\n",
       "  <tbody>\n",
       "    <tr>\n",
       "      <th>0</th>\n",
       "      <td>Linear model with log of target variable</td>\n",
       "      <td>3479.336579</td>\n",
       "      <td>0.789633</td>\n",
       "      <td>0.787386</td>\n",
       "    </tr>\n",
       "  </tbody>\n",
       "</table>\n",
       "</div>"
      ],
      "text/plain": [
       "                                       Model         RMSE  R-Squared  \\\n",
       "0  Linear model with log of target variable   3479.336579   0.789633   \n",
       "\n",
       "   Adj. R-Squared  \n",
       "0        0.787386  "
      ]
     },
     "execution_count": 240,
     "metadata": {},
     "output_type": "execute_result"
    }
   ],
   "source": [
    "# Creating result table for all accuracy scores\n",
    "cols = ['Model', 'RMSE', 'R-Squared', 'Adj. R-Squared']\n",
    "result_tabulation = pd.DataFrame(columns = cols)\n",
    "\n",
    "linear_logmodel_metrics = pd.Series({'Model': \"Linear model with log of target variable \",\n",
    "                     'RMSE':linear_log_model_rmse,\n",
    "                     'R-Squared': linear_log_model_rsquared,\n",
    "                     'Adj. R-Squared': linear_log_model_rsquared_adj     \n",
    "                   })\n",
    "\n",
    "result_tabulation = result_tabulation.append(linear_logmodel_metrics, ignore_index = True)\n",
    "\n",
    "result_tabulation"
   ]
  },
  {
   "cell_type": "markdown",
   "id": "7d1a6253",
   "metadata": {},
   "source": [
    "## Linear Regression Model without Log Transformed Dependent Variable"
   ]
  },
  {
   "cell_type": "code",
   "execution_count": 241,
   "id": "c4a7f973",
   "metadata": {},
   "outputs": [
    {
     "name": "stdout",
     "output_type": "stream",
     "text": [
      "                            OLS Regression Results                            \n",
      "==============================================================================\n",
      "Dep. Variable:                charges   R-squared:                       0.732\n",
      "Model:                            OLS   Adj. R-squared:                  0.729\n",
      "Method:                 Least Squares   F-statistic:                     255.7\n",
      "Date:                Sun, 21 May 2023   Prob (F-statistic):          2.48e-208\n",
      "Time:                        18:43:08   Log-Likelihood:                -7050.9\n",
      "No. Observations:                 758   AIC:                         1.412e+04\n",
      "Df Residuals:                     749   BIC:                         1.416e+04\n",
      "Df Model:                           8                                         \n",
      "Covariance Type:            nonrobust                                         \n",
      "====================================================================================\n",
      "                       coef    std err          t      P>|t|      [0.025      0.975]\n",
      "------------------------------------------------------------------------------------\n",
      "const            -3075.6525    609.335     -5.048      0.000   -4271.859   -1879.446\n",
      "age                236.2464      6.991     33.795      0.000     222.523     249.970\n",
      "bmi                 58.2223     17.989      3.237      0.001      22.908      93.536\n",
      "children           440.7492     83.454      5.281      0.000     276.917     604.581\n",
      "sex_male          -428.5168    194.366     -2.205      0.028    -810.083     -46.950\n",
      "smoker_yes        1.311e+04    393.088     33.358      0.000    1.23e+04    1.39e+04\n",
      "region_northwest  -537.8864    275.386     -1.953      0.051   -1078.507       2.734\n",
      "region_southeast  -961.9606    283.939     -3.388      0.001   -1519.371    -404.550\n",
      "region_southwest  -981.1624    271.877     -3.609      0.000   -1514.893    -447.431\n",
      "==============================================================================\n",
      "Omnibus:                      681.955   Durbin-Watson:                   2.055\n",
      "Prob(Omnibus):                  0.000   Jarque-Bera (JB):            14474.490\n",
      "Skew:                           4.231   Prob(JB):                         0.00\n",
      "Kurtosis:                      22.665   Cond. No.                         330.\n",
      "==============================================================================\n",
      "\n",
      "Notes:\n",
      "[1] Standard Errors assume that the covariance matrix of the errors is correctly specified.\n"
     ]
    }
   ],
   "source": [
    "linear_model = sm.OLS(y_train['charges'], X_train).fit()\n",
    "\n",
    "print(linear_model.summary())"
   ]
  },
  {
   "cell_type": "code",
   "execution_count": 242,
   "id": "93d3d851",
   "metadata": {},
   "outputs": [],
   "source": [
    "linear_model_predictions = linear_model.predict(X_test)"
   ]
  },
  {
   "cell_type": "code",
   "execution_count": 243,
   "id": "0160cfd6",
   "metadata": {},
   "outputs": [],
   "source": [
    "linear_model_rmse = rmse(actual_charges, linear_model_predictions)\n",
    "\n",
    "linear_model_rsquared = linear_model.rsquared\n",
    "\n",
    "linear_model_rsquared_adj = linear_model.rsquared_adj "
   ]
  },
  {
   "cell_type": "code",
   "execution_count": 244,
   "id": "abdb03e7",
   "metadata": {},
   "outputs": [
    {
     "data": {
      "text/html": [
       "<div>\n",
       "<style scoped>\n",
       "    .dataframe tbody tr th:only-of-type {\n",
       "        vertical-align: middle;\n",
       "    }\n",
       "\n",
       "    .dataframe tbody tr th {\n",
       "        vertical-align: top;\n",
       "    }\n",
       "\n",
       "    .dataframe thead th {\n",
       "        text-align: right;\n",
       "    }\n",
       "</style>\n",
       "<table border=\"1\" class=\"dataframe\">\n",
       "  <thead>\n",
       "    <tr style=\"text-align: right;\">\n",
       "      <th></th>\n",
       "      <th>Model</th>\n",
       "      <th>RMSE</th>\n",
       "      <th>R-Squared</th>\n",
       "      <th>Adj. R-Squared</th>\n",
       "    </tr>\n",
       "  </thead>\n",
       "  <tbody>\n",
       "    <tr>\n",
       "      <th>0</th>\n",
       "      <td>Linear model with log of target variable</td>\n",
       "      <td>3479.336579</td>\n",
       "      <td>0.789633</td>\n",
       "      <td>0.787386</td>\n",
       "    </tr>\n",
       "    <tr>\n",
       "      <th>1</th>\n",
       "      <td>Linear model without log of target variable</td>\n",
       "      <td>2728.450181</td>\n",
       "      <td>0.731977</td>\n",
       "      <td>0.729115</td>\n",
       "    </tr>\n",
       "  </tbody>\n",
       "</table>\n",
       "</div>"
      ],
      "text/plain": [
       "                                          Model         RMSE  R-Squared  \\\n",
       "0     Linear model with log of target variable   3479.336579   0.789633   \n",
       "1  Linear model without log of target variable   2728.450181   0.731977   \n",
       "\n",
       "   Adj. R-Squared  \n",
       "0        0.787386  \n",
       "1        0.729115  "
      ]
     },
     "execution_count": 244,
     "metadata": {},
     "output_type": "execute_result"
    }
   ],
   "source": [
    "# appending the result table\n",
    "linear_model_metrics = pd.Series({'Model': \"Linear model without log of target variable \",\n",
    "                     'RMSE':linear_model_rmse,\n",
    "                     'R-Squared': linear_model_rsquared,\n",
    "                     'Adj. R-Squared': linear_model_rsquared_adj     \n",
    "                   })\n",
    "\n",
    "result_tabulation = result_tabulation.append(linear_model_metrics, ignore_index = True)\n",
    "\n",
    "result_tabulation"
   ]
  },
  {
   "cell_type": "markdown",
   "id": "8f404a25",
   "metadata": {},
   "source": [
    "## Decision tree model"
   ]
  },
  {
   "cell_type": "code",
   "execution_count": 245,
   "id": "7847e4f4",
   "metadata": {},
   "outputs": [
    {
     "data": {
      "text/plain": [
       "(1084, 11)"
      ]
     },
     "execution_count": 245,
     "metadata": {},
     "output_type": "execute_result"
    }
   ],
   "source": [
    "df_insurance_dummy.shape"
   ]
  },
  {
   "cell_type": "code",
   "execution_count": 246,
   "id": "d5e90949",
   "metadata": {},
   "outputs": [],
   "source": [
    "b = pd.DataFrame(df_insurance_dummy['charges'])"
   ]
  },
  {
   "cell_type": "code",
   "execution_count": 247,
   "id": "e35f3532",
   "metadata": {},
   "outputs": [
    {
     "data": {
      "text/html": [
       "<div>\n",
       "<style scoped>\n",
       "    .dataframe tbody tr th:only-of-type {\n",
       "        vertical-align: middle;\n",
       "    }\n",
       "\n",
       "    .dataframe tbody tr th {\n",
       "        vertical-align: top;\n",
       "    }\n",
       "\n",
       "    .dataframe thead th {\n",
       "        text-align: right;\n",
       "    }\n",
       "</style>\n",
       "<table border=\"1\" class=\"dataframe\">\n",
       "  <thead>\n",
       "    <tr style=\"text-align: right;\">\n",
       "      <th></th>\n",
       "      <th>charges</th>\n",
       "    </tr>\n",
       "  </thead>\n",
       "  <tbody>\n",
       "    <tr>\n",
       "      <th>0</th>\n",
       "      <td>16884.92400</td>\n",
       "    </tr>\n",
       "    <tr>\n",
       "      <th>1</th>\n",
       "      <td>1725.55230</td>\n",
       "    </tr>\n",
       "    <tr>\n",
       "      <th>2</th>\n",
       "      <td>4449.46200</td>\n",
       "    </tr>\n",
       "    <tr>\n",
       "      <th>3</th>\n",
       "      <td>21984.47061</td>\n",
       "    </tr>\n",
       "    <tr>\n",
       "      <th>4</th>\n",
       "      <td>3866.85520</td>\n",
       "    </tr>\n",
       "  </tbody>\n",
       "</table>\n",
       "</div>"
      ],
      "text/plain": [
       "       charges\n",
       "0  16884.92400\n",
       "1   1725.55230\n",
       "2   4449.46200\n",
       "3  21984.47061\n",
       "4   3866.85520"
      ]
     },
     "execution_count": 247,
     "metadata": {},
     "output_type": "execute_result"
    }
   ],
   "source": [
    "b.head()"
   ]
  },
  {
   "cell_type": "code",
   "execution_count": 248,
   "id": "4af64554",
   "metadata": {},
   "outputs": [],
   "source": [
    "a = df_insurance_dummy.drop(['charges'], axis = 1)"
   ]
  },
  {
   "cell_type": "code",
   "execution_count": 249,
   "id": "4cedd9be",
   "metadata": {},
   "outputs": [
    {
     "data": {
      "text/html": [
       "<div>\n",
       "<style scoped>\n",
       "    .dataframe tbody tr th:only-of-type {\n",
       "        vertical-align: middle;\n",
       "    }\n",
       "\n",
       "    .dataframe tbody tr th {\n",
       "        vertical-align: top;\n",
       "    }\n",
       "\n",
       "    .dataframe thead th {\n",
       "        text-align: right;\n",
       "    }\n",
       "</style>\n",
       "<table border=\"1\" class=\"dataframe\">\n",
       "  <thead>\n",
       "    <tr style=\"text-align: right;\">\n",
       "      <th></th>\n",
       "      <th>const</th>\n",
       "      <th>age</th>\n",
       "      <th>bmi</th>\n",
       "      <th>children</th>\n",
       "      <th>log_charges</th>\n",
       "      <th>sex_male</th>\n",
       "      <th>smoker_yes</th>\n",
       "      <th>region_northwest</th>\n",
       "      <th>region_southeast</th>\n",
       "      <th>region_southwest</th>\n",
       "    </tr>\n",
       "  </thead>\n",
       "  <tbody>\n",
       "    <tr>\n",
       "      <th>0</th>\n",
       "      <td>1.0</td>\n",
       "      <td>19</td>\n",
       "      <td>27.900</td>\n",
       "      <td>0</td>\n",
       "      <td>9.734176</td>\n",
       "      <td>0</td>\n",
       "      <td>1</td>\n",
       "      <td>0</td>\n",
       "      <td>0</td>\n",
       "      <td>1</td>\n",
       "    </tr>\n",
       "    <tr>\n",
       "      <th>1</th>\n",
       "      <td>1.0</td>\n",
       "      <td>18</td>\n",
       "      <td>33.770</td>\n",
       "      <td>1</td>\n",
       "      <td>7.453302</td>\n",
       "      <td>1</td>\n",
       "      <td>0</td>\n",
       "      <td>0</td>\n",
       "      <td>1</td>\n",
       "      <td>0</td>\n",
       "    </tr>\n",
       "    <tr>\n",
       "      <th>2</th>\n",
       "      <td>1.0</td>\n",
       "      <td>28</td>\n",
       "      <td>33.000</td>\n",
       "      <td>3</td>\n",
       "      <td>8.400538</td>\n",
       "      <td>1</td>\n",
       "      <td>0</td>\n",
       "      <td>0</td>\n",
       "      <td>1</td>\n",
       "      <td>0</td>\n",
       "    </tr>\n",
       "    <tr>\n",
       "      <th>3</th>\n",
       "      <td>1.0</td>\n",
       "      <td>33</td>\n",
       "      <td>22.705</td>\n",
       "      <td>0</td>\n",
       "      <td>9.998092</td>\n",
       "      <td>1</td>\n",
       "      <td>0</td>\n",
       "      <td>1</td>\n",
       "      <td>0</td>\n",
       "      <td>0</td>\n",
       "    </tr>\n",
       "    <tr>\n",
       "      <th>4</th>\n",
       "      <td>1.0</td>\n",
       "      <td>32</td>\n",
       "      <td>28.880</td>\n",
       "      <td>0</td>\n",
       "      <td>8.260197</td>\n",
       "      <td>1</td>\n",
       "      <td>0</td>\n",
       "      <td>1</td>\n",
       "      <td>0</td>\n",
       "      <td>0</td>\n",
       "    </tr>\n",
       "  </tbody>\n",
       "</table>\n",
       "</div>"
      ],
      "text/plain": [
       "   const  age     bmi  children  log_charges  sex_male  smoker_yes  \\\n",
       "0    1.0   19  27.900         0     9.734176         0           1   \n",
       "1    1.0   18  33.770         1     7.453302         1           0   \n",
       "2    1.0   28  33.000         3     8.400538         1           0   \n",
       "3    1.0   33  22.705         0     9.998092         1           0   \n",
       "4    1.0   32  28.880         0     8.260197         1           0   \n",
       "\n",
       "   region_northwest  region_southeast  region_southwest  \n",
       "0                 0                 0                 1  \n",
       "1                 0                 1                 0  \n",
       "2                 0                 1                 0  \n",
       "3                 1                 0                 0  \n",
       "4                 1                 0                 0  "
      ]
     },
     "execution_count": 249,
     "metadata": {},
     "output_type": "execute_result"
    }
   ],
   "source": [
    "a.head()"
   ]
  },
  {
   "cell_type": "code",
   "execution_count": 250,
   "id": "85c66667",
   "metadata": {},
   "outputs": [
    {
     "name": "stdout",
     "output_type": "stream",
     "text": [
      "X_train  (867, 10)\n",
      "X_test  (217, 10)\n",
      "y_train  (867, 1)\n",
      "y_test  (217, 1)\n"
     ]
    }
   ],
   "source": [
    "X_train, X_test, y_train, y_test = train_test_split(a, b, test_size = 0.20, random_state=10)\n",
    "\n",
    "print(\"X_train \",X_train.shape)\n",
    "\n",
    "print(\"X_test \",X_test.shape)\n",
    "\n",
    "print(\"y_train \",y_train.shape)\n",
    "\n",
    "print(\"y_test \",y_test.shape)"
   ]
  },
  {
   "cell_type": "code",
   "execution_count": 251,
   "id": "62aa4396",
   "metadata": {},
   "outputs": [
    {
     "data": {
      "text/plain": [
       "DecisionTreeRegressor(max_depth=5, random_state=10)"
      ]
     },
     "execution_count": 251,
     "metadata": {},
     "output_type": "execute_result"
    }
   ],
   "source": [
    "decision_tree_model = DecisionTreeRegressor(max_depth=5, random_state=10)  \n",
    "decision_tree_model.fit(X_train, y_train) "
   ]
  },
  {
   "cell_type": "code",
   "execution_count": 252,
   "id": "e9b6cbcc",
   "metadata": {},
   "outputs": [],
   "source": [
    "decision_tree_model_predictions = decision_tree_model.predict(X_test)"
   ]
  },
  {
   "cell_type": "code",
   "execution_count": 253,
   "id": "f50fea37",
   "metadata": {},
   "outputs": [],
   "source": [
    "# computing the R-Squared\n",
    "r_squared_dt= decision_tree_model.score(X_train,y_train)\n",
    "n = 758\n",
    "p = 10\n",
    "\n",
    "# Computing Adj-R-Squared\n",
    "adj_r_squared_dt = 1 - (1-r_squared_dt)*(n-1)/(n-p-1)\n",
    "\n",
    "# Computing RMSE\n",
    "rmse_dt = sqrt(mean_squared_error(y_test, decision_tree_model_predictions))"
   ]
  },
  {
   "cell_type": "code",
   "execution_count": 254,
   "id": "bffaee69",
   "metadata": {},
   "outputs": [
    {
     "data": {
      "text/html": [
       "<div>\n",
       "<style scoped>\n",
       "    .dataframe tbody tr th:only-of-type {\n",
       "        vertical-align: middle;\n",
       "    }\n",
       "\n",
       "    .dataframe tbody tr th {\n",
       "        vertical-align: top;\n",
       "    }\n",
       "\n",
       "    .dataframe thead th {\n",
       "        text-align: right;\n",
       "    }\n",
       "</style>\n",
       "<table border=\"1\" class=\"dataframe\">\n",
       "  <thead>\n",
       "    <tr style=\"text-align: right;\">\n",
       "      <th></th>\n",
       "      <th>Model</th>\n",
       "      <th>RMSE</th>\n",
       "      <th>R-Squared</th>\n",
       "      <th>Adj. R-Squared</th>\n",
       "    </tr>\n",
       "  </thead>\n",
       "  <tbody>\n",
       "    <tr>\n",
       "      <th>0</th>\n",
       "      <td>Linear model with log of target variable</td>\n",
       "      <td>3479.336579</td>\n",
       "      <td>0.789633</td>\n",
       "      <td>0.787386</td>\n",
       "    </tr>\n",
       "    <tr>\n",
       "      <th>1</th>\n",
       "      <td>Linear model without log of target variable</td>\n",
       "      <td>2728.450181</td>\n",
       "      <td>0.731977</td>\n",
       "      <td>0.729115</td>\n",
       "    </tr>\n",
       "    <tr>\n",
       "      <th>2</th>\n",
       "      <td>Decision Tree</td>\n",
       "      <td>190.328118</td>\n",
       "      <td>0.998819</td>\n",
       "      <td>0.998803</td>\n",
       "    </tr>\n",
       "  </tbody>\n",
       "</table>\n",
       "</div>"
      ],
      "text/plain": [
       "                                          Model         RMSE  R-Squared  \\\n",
       "0     Linear model with log of target variable   3479.336579   0.789633   \n",
       "1  Linear model without log of target variable   2728.450181   0.731977   \n",
       "2                                 Decision Tree   190.328118   0.998819   \n",
       "\n",
       "   Adj. R-Squared  \n",
       "0        0.787386  \n",
       "1        0.729115  \n",
       "2        0.998803  "
      ]
     },
     "execution_count": 254,
     "metadata": {},
     "output_type": "execute_result"
    }
   ],
   "source": [
    "decision_tree_metrics = pd.Series({'Model': \"Decision Tree\",\n",
    "                     'RMSE':rmse_dt,\n",
    "                     'R-Squared':r_squared_dt,\n",
    "                     'Adj. R-Squared': adj_r_squared_dt     \n",
    "                   })\n",
    "\n",
    "result_tabulation = result_tabulation.append(decision_tree_metrics, ignore_index = True)\n",
    "\n",
    "result_tabulation"
   ]
  },
  {
   "cell_type": "markdown",
   "id": "3605beba",
   "metadata": {},
   "source": [
    "## Random forest model"
   ]
  },
  {
   "cell_type": "code",
   "execution_count": 255,
   "id": "7ed48f2c",
   "metadata": {},
   "outputs": [
    {
     "data": {
      "text/plain": [
       "RandomForestRegressor(n_estimators=30, random_state=10)"
      ]
     },
     "execution_count": 255,
     "metadata": {},
     "output_type": "execute_result"
    }
   ],
   "source": [
    "rf_model = RandomForestRegressor(n_estimators=30, random_state=10)\n",
    "\n",
    "rf_model.fit(X_train, y_train)"
   ]
  },
  {
   "cell_type": "code",
   "execution_count": 256,
   "id": "70aa537a",
   "metadata": {},
   "outputs": [],
   "source": [
    "rf_model_predictions = rf_model.predict(X_test)"
   ]
  },
  {
   "cell_type": "code",
   "execution_count": 257,
   "id": "46786331",
   "metadata": {},
   "outputs": [],
   "source": [
    "r_squared_rf= rf_model.score(X_train,y_train)\n",
    "n = 758\n",
    "p = 10\n",
    "\n",
    "# Computing Adj-R-Squared\n",
    "adj_r_squared_rf = 1 - (1-r_squared_rf)*(n-1)/(n-p-1)\n",
    "\n",
    "# Computing RMSE\n",
    "rmse_rf = sqrt(mean_squared_error(y_test, rf_model_predictions))"
   ]
  },
  {
   "cell_type": "code",
   "execution_count": 258,
   "id": "19151a0f",
   "metadata": {},
   "outputs": [
    {
     "data": {
      "text/plain": [
       "0.999993542255537"
      ]
     },
     "execution_count": 258,
     "metadata": {},
     "output_type": "execute_result"
    }
   ],
   "source": [
    "adj_r_squared_rf"
   ]
  },
  {
   "cell_type": "code",
   "execution_count": 259,
   "id": "7ada830e",
   "metadata": {},
   "outputs": [
    {
     "data": {
      "text/html": [
       "<div>\n",
       "<style scoped>\n",
       "    .dataframe tbody tr th:only-of-type {\n",
       "        vertical-align: middle;\n",
       "    }\n",
       "\n",
       "    .dataframe tbody tr th {\n",
       "        vertical-align: top;\n",
       "    }\n",
       "\n",
       "    .dataframe thead th {\n",
       "        text-align: right;\n",
       "    }\n",
       "</style>\n",
       "<table border=\"1\" class=\"dataframe\">\n",
       "  <thead>\n",
       "    <tr style=\"text-align: right;\">\n",
       "      <th></th>\n",
       "      <th>Model</th>\n",
       "      <th>RMSE</th>\n",
       "      <th>R-Squared</th>\n",
       "      <th>Adj. R-Squared</th>\n",
       "    </tr>\n",
       "  </thead>\n",
       "  <tbody>\n",
       "    <tr>\n",
       "      <th>0</th>\n",
       "      <td>Linear model with log of target variable</td>\n",
       "      <td>3479.336579</td>\n",
       "      <td>0.789633</td>\n",
       "      <td>0.787386</td>\n",
       "    </tr>\n",
       "    <tr>\n",
       "      <th>1</th>\n",
       "      <td>Linear model without log of target variable</td>\n",
       "      <td>2728.450181</td>\n",
       "      <td>0.731977</td>\n",
       "      <td>0.729115</td>\n",
       "    </tr>\n",
       "    <tr>\n",
       "      <th>2</th>\n",
       "      <td>Decision Tree</td>\n",
       "      <td>190.328118</td>\n",
       "      <td>0.998819</td>\n",
       "      <td>0.998803</td>\n",
       "    </tr>\n",
       "    <tr>\n",
       "      <th>3</th>\n",
       "      <td>Random Forest</td>\n",
       "      <td>26.881692</td>\n",
       "      <td>0.999994</td>\n",
       "      <td>0.999994</td>\n",
       "    </tr>\n",
       "  </tbody>\n",
       "</table>\n",
       "</div>"
      ],
      "text/plain": [
       "                                          Model         RMSE  R-Squared  \\\n",
       "0     Linear model with log of target variable   3479.336579   0.789633   \n",
       "1  Linear model without log of target variable   2728.450181   0.731977   \n",
       "2                                 Decision Tree   190.328118   0.998819   \n",
       "3                                 Random Forest    26.881692   0.999994   \n",
       "\n",
       "   Adj. R-Squared  \n",
       "0        0.787386  \n",
       "1        0.729115  \n",
       "2        0.998803  \n",
       "3        0.999994  "
      ]
     },
     "execution_count": 259,
     "metadata": {},
     "output_type": "execute_result"
    }
   ],
   "source": [
    "rf_metrics = pd.Series({'Model': \"Random Forest\",\n",
    "                     'RMSE':rmse_rf,\n",
    "                     'R-Squared':r_squared_rf,\n",
    "                     'Adj. R-Squared': adj_r_squared_rf    \n",
    "                   })\n",
    "\n",
    "result_tabulation = result_tabulation.append(rf_metrics, ignore_index = True)\n",
    "\n",
    "result_tabulation"
   ]
  },
  {
   "cell_type": "markdown",
   "id": "0dce5a96",
   "metadata": {},
   "source": [
    "### From the above table, we can see that Random forest has better performed in predicting the insurance charges. "
   ]
  }
 ],
 "metadata": {
  "kernelspec": {
   "display_name": "Python 3 (ipykernel)",
   "language": "python",
   "name": "python3"
  },
  "language_info": {
   "codemirror_mode": {
    "name": "ipython",
    "version": 3
   },
   "file_extension": ".py",
   "mimetype": "text/x-python",
   "name": "python",
   "nbconvert_exporter": "python",
   "pygments_lexer": "ipython3",
   "version": "3.9.13"
  }
 },
 "nbformat": 4,
 "nbformat_minor": 5
}
